{
 "cells": [
  {
   "cell_type": "markdown",
   "metadata": {},
   "source": [
    "# Trabalho de Estatística Aplicada\n",
    "\n",
    "## Regressão Linear Múltipla\n",
    "\n",
    "### Grupo:\n",
    "\n",
    "* Rafael G. de Pontes\n",
    "* Henrique Arriel\n",
    "* Jonathan L."
   ]
  },
  {
   "cell_type": "markdown",
   "metadata": {},
   "source": [
    "## Dataset\n",
    "\n",
    "Os dados coletados para esta análise foram retirados do site [kaggle](https://www.kaggle.com/crisparada/brazilian-cities). Eles foram liberados por [Cristina Parada](https://www.kaggle.com/crisparada), sob a licença [CC BY-SA 4.0](https://creativecommons.org/licenses/by-sa/4.0/), publicados no dia 24/05/2019. Tratam-se de dados de diversas cidades do Brasil, tais como: população, número de unidades domiciliares, telefones fixos, TVs por assinatura, censos populacionais estratificados por idade, zona urbana ou rural, dentre outros. Ao todo, são 79 campos para cada cidade documentada. As descrições completas dos dados, em inglês, juntamente com suas respectivas fontes, podem ser vistas a seguir:\n",
    "\n",
    "FIELD - DESCRIPTION - REFERENCE - UNIT - SOURCE\n",
    "\n",
    "CITY - Name of the City\n",
    "\n",
    "STATE - Name of the State\n",
    "\n",
    "CAPITAL - 1 if Capital of State\n",
    "\n",
    "IBGE_RES_POP - Resident Population - 2010 - source\n",
    "\n",
    "IBGE_RES_POP_BRAS - Resident Population Brazilian - 2010 - source\n",
    "\n",
    "IBGE_RES_POP_ESTR - Redident Population Foreigners - 2010 - source\n",
    "\n",
    "IBGE_DU - Domestic Units Total - 2010 - source\n",
    "\n",
    "IBGE_DU_URBAN - Domestic Units Urban - 2010 - source\n",
    "\n",
    "IBGE_DU_RURAL - Domestic Units Rural 2010 - source\n",
    "\n",
    "IBGE_POP - Resident Population Regular Urban Planning - 2010 - source\n",
    "\n",
    "IBGE_1 - Resident Population Regular Urban Planning - until 1 y.o - 2010 - source\n",
    "\n",
    "IBGE_1-4 - Resident Population Regular Urban Planning - from 1 to 4 y.o - 2010 - source\n",
    "\n",
    "IBGE_5-9 - Resident Population Regular Urban Planning - from 4 to 9 y.o - 2010 - source\n",
    "\n",
    "IBGE_10-14 - Resident Population Regular Urban Planning - from 10 to 14 y.o - 2010 - source\n",
    "\n",
    "IBGE_15-59 - Resident Population Regular Urban Planning - from 15 to 59 y.o 2010 - source\n",
    "\n",
    "IBGE_60+ - Resident Population Regular Urban Planning - above 60 y.o - 2010 - source\n",
    "\n",
    "IBGE_PLANTED_AREA - Planted Area (hectares) - 2017 - 1 hectare (1 hectare = 10,000 square meters) - source\n",
    "\n",
    "IBGE_CROP_PRODUCTION_$ - Crop Production - 2017 - $ 1,000 reais - source\n",
    "\n",
    "IDHM Ranking - HDI Ranking - 2010 - source\n",
    "\n",
    "IDHM - HDI Human Development Index - 2010 - source\n",
    "\n",
    "IDHM_Renda - HDI GNI Index - 2010 - source\n",
    "\n",
    "IDHM_Longevidade - HDI Life Expectancy index - 2010 - source\n",
    "\n",
    "IDHM_Educacao HDI Education index - 2010 - source\n",
    "\n",
    "LONG - City Longitude - 2010 - source\n",
    "\n",
    "LAT - City Latitude - 2010 - source\n",
    "\n",
    "ALT - City Elevation (meters) - 2010 - 1 meter - source\n",
    "\n",
    "PAY_TV - PayTV users - 2019-03 - source\n",
    "\n",
    "FIXED_PHONES - Fixed Fones (not cell phones) users - 2019-03 - source\n",
    "\n",
    "AREA - City area (square kilometers) - 2018 - 1 square Kilometer (1 kilometer = 1,000,000 square meters) - source\n",
    "\n",
    "REGIAO_TUR - Turism Category Region - 2017 - source\n",
    "\n",
    "CATEGORIA_TUR - Turism Category - 2017 - source\n",
    "\n",
    "ESTIMATED_POP - Estimated Population - 2018-07 - source\n",
    "\n",
    "RURAL_URBAN - Rural or Urban Tipology - 2016 - source\n",
    "\n",
    "GVA_AGROPEC - Gross Added Value - Agropecuary - 2016 - $ 1,000 reais - source\n",
    "\n",
    "GVA_INDUSTRY - Gross Added Value - Industry - 2016 - $ 1,000 reais - source\n",
    "\n",
    "GVA_SERVICES - Gross Added Value - Services - 2016 - $ 1,000 reais - source\n",
    "\n",
    "GVA_PUBLIC - Gross Added Value - Public Services - 2016 - $ 1,000 reais - source\n",
    "\n",
    "GVA_TOTAL Total Gross Added Value - 2016 - $ 1,000 reais - source\n",
    "\n",
    "TAXES - Taxes - 2016 - $ 1,000 - reais - source\n",
    "\n",
    "GDP - Gross Domestic Product - 2016 - $ 1,000 reais - source\n",
    "\n",
    "POP_GDP - Population - 2016 - source\n",
    "\n",
    "GDP_CAPITA - Gross Domestic Product per capita - 2016 - source\n",
    "\n",
    "GVA_MAIN - Activity with higher GVA contribution - 2016 - source\n",
    "\n",
    "MUN_EXPENDIT - Municipal expenditures - in reais - 2016 - $ 1 real - source\n",
    "\n",
    "COMP_TOT - Total number of companies 2016 - source\n",
    "\n",
    "COMP_A Number of Companies: Agriculture, livestock, forestry, fishing and aquaculture - 2016 - source\n",
    "\n",
    "COMP_B Number of Companies: Extractive industries 2016 - source\n",
    "\n",
    "COMP_C Number of Companies: Industries of transformation - 2016 - source\n",
    "\n",
    "COMP_D Number of Companies: Electricity and gas - 2016 - source\n",
    "\n",
    "COMP_E Number of Companies: Water, sewage, waste management and decontamination activities - 2016 - source\n",
    "\n",
    "COMP_F Number of Companies: Construction - 2016 - source\n",
    "\n",
    "COMP_G - Number of Companies: Trade; repair of motor vehicles and motorcycles - 2016 - source\n",
    "\n",
    "COMP_H - Number of Companies: Transport, storage and mail - 2016 - source\n",
    "\n",
    "COMP_I - Number of Companies: Accommodation and food - 2016 - source\n",
    "\n",
    "COMP_J - Number of Companies: Information and communication - 2016 - source\n",
    "\n",
    "COMP_K - Number of Companies: Financial, insurance and related services activities - 2016 - source\n",
    "\n",
    "COMP_L - Number of Companies: Real estate activities - 2016 - source\n",
    "\n",
    "COMP_M - Number of Companies: Professional, scientific and technical activities - 2016 - source\n",
    "\n",
    "COMP_N - Number of Companies: Administrative activities and complementary services - 2016 - source\n",
    "\n",
    "COMP_O - Number of Companies: Public administration, defense and social security - 2016 - source\n",
    "\n",
    "COMP_P - Number of Companies: Education - 2016 - source\n",
    "\n",
    "COMP_Q - Number of Companies: Human health and social services - 2016 - source\n",
    "\n",
    "COMP_R - Number of Companies: Arts, culture, sport and recreation - 2016 - source\n",
    "\n",
    "COMP_S - Number of Companies: Other service activities - 2016 - source\n",
    "\n",
    "COMP_T - Number of Companies: Domestic services - 2016 - source\n",
    "\n",
    "COMP_U - Number of Companies: International and other extraterritorial institutions - 2016 - source\n",
    "\n",
    "HOTELS - Total number of hotels - 2019-03 - source\n",
    "\n",
    "BEDS - Total number of hotel beds - 2019-03 - source\n",
    "\n",
    "Pr_Agencies - Total number of private bank agencies - 2019-02 - source\n",
    "\n",
    "Pu_Agencies - Total number of public bank agencies - 2019-02 - source\n",
    "\n",
    "Pr_Bank - Total number of private banks - 2019-02 - source\n",
    "\n",
    "Pu_Bank - Total number of public banks 2019-02 - source\n",
    "\n",
    "Pr_Assets - Total amount of private bank assets - 2019-02 $ 1 real source\n",
    "\n",
    "Pu_Assets - Total amount of public bank assets - 2019-02 $ 1 real source\n",
    "\n",
    "Cars - Total number of cars - 2019-01 - source\n",
    "\n",
    "Motorcycles - Total number of motorcycles, scooters, moped - 2019-01 - source\n",
    "\n",
    "Wheeled_tractor - Total number of wheeled tractors - 2019-01 - source\n",
    "\n",
    "UBER - 1 if UBER 2019-05 - source\n",
    "\n",
    "MAC - Total number of Mac Donalds stores - 2018-11 - source\n",
    "\n",
    "WALLMART - Total number of Walmart Stores - 2018-12 - source\n",
    "\n",
    "POST_OFFICES - Total number of post offices - 2019-05 - source"
   ]
  },
  {
   "cell_type": "markdown",
   "metadata": {},
   "source": [
    "## Problemática\n",
    "\n",
    "A proposta desta análise é investigar um possível conjunto de variáveis para construir um modelo de regressão linear múltipla. A princípio, deseja-se modelar qual a quantidade de telefones fixos em uma cidade brasileira e quais outras variáveis possivelmente implicam em seu aumento ou decremento lineares."
   ]
  },
  {
   "cell_type": "markdown",
   "metadata": {},
   "source": [
    "## Possiveis variáveis\n",
    "\n",
    "Inicialmente, como ainda não sabíamos quais variáveis poderiam estar mais correlacionadas com nosso Y (FIXED_PHONES), investigamos para todas as possíveis variáveis de interesse disponíveis no dataset. A seguir, listamo-las explicitamente:\n",
    "\n",
    "FIELD - DESCRIPTION - REFERENCE - UNIT - SOURCE\n",
    "\n",
    "IBGE_RES_POP_BRAS - Resident Population Brazilian - 2010 - source\n",
    "\n",
    "IBGE_RES_POP_ESTR - Redident Population Foreigners - 2010 - source\n",
    "\n",
    "IBGE_DU_URBAN - Domestic Units Urban - 2010 - source\n",
    "\n",
    "IBGE_DU_RURAL - Domestic Units Rural 2010 - source\n",
    "\n",
    "IBGE_1 - Resident Population Regular Urban Planning - until 1 y.o - 2010 - source\n",
    "\n",
    "IBGE_1-4 - Resident Population Regular Urban Planning - from 1 to 4 y.o - 2010 - source\n",
    "\n",
    "IBGE_5-9 - Resident Population Regular Urban Planning - from 4 to 9 y.o - 2010 - source\n",
    "\n",
    "IBGE_10-14 - Resident Population Regular Urban Planning - from 10 to 14 y.o - 2010 - source\n",
    "\n",
    "IBGE_15-59 - Resident Population Regular Urban Planning - from 15 to 59 y.o 2010 - source\n",
    "\n",
    "IBGE_60+ - Resident Population Regular Urban Planning - above 60 y.o - 2010 - source\n",
    "\n",
    "IBGE_PLANTED_AREA - Planted Area (hectares) - 2017 - 1 hectare (1 hectare = 10,000 square meters) - source\n",
    "\n",
    "PAY_TV - PayTV users - 2019-03 - source\n",
    "\n",
    "FIXED_PHONES - Fixed Fones (not cell phones) users - 2019-03 - source\n",
    "\n",
    "AREA - City area (square kilometers) - 2018 - 1 square Kilometer (1 kilometer = 1,000,000 square meters) - source\n",
    "\n",
    "ESTIMATED_POP - Estimated Population - 2018-07 - source\n",
    "\n",
    "GVA_AGROPEC - Gross Added Value - Agropecuary - 2016 - $ 1,000 reais - source\n",
    "\n",
    "GVA_INDUSTRY - Gross Added Value - Industry - 2016 - $ 1,000 reais - source\n",
    "\n",
    "GVA_SERVICES - Gross Added Value - Services - 2016 - $ 1,000 reais - source\n",
    "\n",
    "GVA_PUBLIC - Gross Added Value - Public Services - 2016 - $ 1,000 reais - source\n",
    "\n",
    "GDP - Gross Domestic Product - 2016 - $ 1,000 reais - source\n",
    "\n",
    "POP_GDP - Population - 2016 - source\n",
    "\n",
    "GDP_CAPITA - Gross Domestic Product per capita - 2016 - source\n",
    "\n",
    "MUN_EXPENDIT - Municipal expenditures - in reais - 2016 - $ 1 real - source\n",
    "\n",
    "COMP_A Number of Companies: Agriculture, livestock, forestry, fishing and aquaculture - 2016 - source\n",
    "\n",
    "COMP_B Number of Companies: Extractive industries 2016 - source\n",
    "\n",
    "COMP_C Number of Companies: Industries of transformation - 2016 - source\n",
    "\n",
    "COMP_D Number of Companies: Electricity and gas - 2016 - source\n",
    "\n",
    "COMP_E Number of Companies: Water, sewage, waste management and decontamination activities - 2016 - source\n",
    "\n",
    "COMP_F Number of Companies: Construction - 2016 - source\n",
    "\n",
    "COMP_G - Number of Companies: Trade; repair of motor vehicles and motorcycles - 2016 - source\n",
    "\n",
    "COMP_H - Number of Companies: Transport, storage and mail - 2016 - source\n",
    "\n",
    "COMP_I - Number of Companies: Accommodation and food - 2016 - source\n",
    "\n",
    "COMP_J - Number of Companies: Information and communication - 2016 - source\n",
    "\n",
    "COMP_K - Number of Companies: Financial, insurance and related services activities - 2016 - source\n",
    "\n",
    "COMP_L - Number of Companies: Real estate activities - 2016 - source\n",
    "\n",
    "COMP_M - Number of Companies: Professional, scientific and technical activities - 2016 - source\n",
    "\n",
    "COMP_N - Number of Companies: Administrative activities and complementary services - 2016 - source\n",
    "\n",
    "COMP_O - Number of Companies: Public administration, defense and social security - 2016 - source\n",
    "\n",
    "COMP_P - Number of Companies: Education - 2016 - source\n",
    "\n",
    "COMP_Q - Number of Companies: Human health and social services - 2016 - source\n",
    "\n",
    "COMP_R - Number of Companies: Arts, culture, sport and recreation - 2016 - source\n",
    "\n",
    "COMP_S - Number of Companies: Other service activities - 2016 - source\n",
    "\n",
    "COMP_T - Number of Companies: Domestic services - 2016 - source\n",
    "\n",
    "COMP_U - Number of Companies: International and other extraterritorial institutions - 2016 - source\n",
    "\n",
    "HOTELS - Total number of hotels - 2019-03 - source\n",
    "\n",
    "BEDS - Total number of hotel beds - 2019-03 - source\n",
    "\n",
    "Pr_Agencies - Total number of private bank agencies - 2019-02 - source\n",
    "\n",
    "Pu_Agencies - Total number of public bank agencies - 2019-02 - source\n",
    "\n",
    "Pr_Bank - Total number of private banks - 2019-02 - source\n",
    "\n",
    "Pu_Bank - Total number of public banks 2019-02 - source\n",
    "\n",
    "Pr_Assets - Total amount of private bank assets - 2019-02 $ 1 real source\n",
    "\n",
    "Pu_Assets - Total amount of public bank assets - 2019-02 $ 1 real source\n",
    "\n",
    "Cars - Total number of cars - 2019-01 - source\n",
    "\n",
    "Motorcycles - Total number of motorcycles, scooters, moped - 2019-01 - source\n",
    "\n",
    "Wheeled_tractor - Total number of wheeled tractors - 2019-01 - source\n",
    "\n",
    "MAC - Total number of Mac Donalds stores - 2018-11 - source\n",
    "\n",
    "WALLMART - Total number of Walmart Stores - 2018-12 - source\n",
    "\n",
    "POST_OFFICES - Total number of post offices - 2019-05 - source"
   ]
  },
  {
   "cell_type": "markdown",
   "metadata": {},
   "source": [
    "Assim, para facilitar a análise em Python, declaramos uma lista com as strings que referenciam as respectivas colunas do dataset disponibilizado, que identificam as variáveis de interesse supracitadas."
   ]
  },
  {
   "cell_type": "code",
   "execution_count": null,
   "metadata": {
    "scrolled": false
   },
   "outputs": [],
   "source": [
    "all_variables = [\n",
    "    \"TAXES\",\n",
    "    \"IBGE_RES_POP_BRAS\",\n",
    "    \"IBGE_RES_POP_ESTR\",\n",
    "    \"IBGE_DU_URBAN\",\n",
    "    \"IBGE_DU_RURAL\",\n",
    "    \"IBGE_1\",\n",
    "    \"IBGE_1-4\",\n",
    "    \"IBGE_5-9\",\n",
    "    \"IBGE_10-14\",\n",
    "    \"IBGE_15-59\",\n",
    "    \"IBGE_60+\",\n",
    "    \"IBGE_PLANTED_AREA\",\n",
    "    \"PAY_TV\",\n",
    "    \"FIXED_PHONES\",\n",
    "    \"AREA\",\n",
    "    \"ESTIMATED_POP\",\n",
    "    \"GVA_AGROPEC\",\n",
    "    \"GVA_INDUSTRY\",\n",
    "    \"GVA_SERVICES\",\n",
    "    \"GVA_PUBLIC\",\n",
    "    \"GDP\",\n",
    "    \"POP_GDP\",\n",
    "    \"GDP_CAPITA\",\n",
    "    \"MUN_EXPENDIT\",\n",
    "    \"COMP_A\",\n",
    "    \"COMP_B\",\n",
    "    \"COMP_C\",\n",
    "    \"COMP_D\",\n",
    "    \"COMP_E\",\n",
    "    \"COMP_F\",\n",
    "    \"COMP_G\",\n",
    "    \"COMP_H\",\n",
    "    \"COMP_I\",\n",
    "    \"COMP_J\",\n",
    "    \"COMP_K\",\n",
    "    \"COMP_L\",\n",
    "    \"COMP_M\",\n",
    "    \"COMP_N\",\n",
    "    \"COMP_O\",\n",
    "    \"COMP_P\",\n",
    "    \"COMP_Q\",\n",
    "    \"COMP_R\",\n",
    "    \"COMP_S\",\n",
    "    \"COMP_T\",\n",
    "    \"COMP_U\",\n",
    "    \"HOTELS\",\n",
    "    \"BEDS\",\n",
    "    \"Pr_Agencies\",\n",
    "    \"Pu_Agencies\",\n",
    "    \"Pr_Bank\",\n",
    "    \"Pu_Bank\",\n",
    "    \"Pr_Assets\",\n",
    "    \"Pu_Assets\",\n",
    "    \"Cars\",\n",
    "    \"Motorcycles\",\n",
    "    \"Wheeled_tractor\",\n",
    "    \"MAC\",\n",
    "    \"POST_OFFICES\",\n",
    "    \"WAL-MART\"\n",
    "]"
   ]
  },
  {
   "cell_type": "markdown",
   "metadata": {},
   "source": [
    "E a string com a variável que queremos modelar:"
   ]
  },
  {
   "cell_type": "code",
   "execution_count": null,
   "metadata": {
    "scrolled": false
   },
   "outputs": [],
   "source": [
    "predicted = \"FIXED_PHONES\""
   ]
  },
  {
   "cell_type": "markdown",
   "metadata": {},
   "source": [
    "## Bibliotecas utilizadas\n",
    "\n",
    "Para realizar a análise, como visto anteriormente, escolhemos a linguagem Python 3. Para facilitar a análise, as seguintes bibliotecas de Python 3 foram utilizadas: **statsmodels, numpy, pandas, pprint, seaborn,** e o submódulo **pyplot** da biblioteca **matplotlib**."
   ]
  },
  {
   "cell_type": "code",
   "execution_count": null,
   "metadata": {
    "scrolled": false
   },
   "outputs": [],
   "source": [
    "# coding: utf-8\n",
    "\n",
    "import statsmodels.api as sm\n",
    "import numpy as np\n",
    "import pandas as pd\n",
    "from pprint import *\n",
    "import seaborn as sns\n",
    "import matplotlib.pyplot as plt"
   ]
  },
  {
   "cell_type": "markdown",
   "metadata": {},
   "source": [
    "## Organizando os dados\n",
    "Antes de gerar o modelo e gráficos, foi necessário isolar e converter alguns dos campos para dados numéricos, haja vista que foram codificados como strings cuja casa decimal era separada por vírgula, o que era incompatível com os módulos utilizados. Abaixo é possível visualizar uma tabela que exibe alguns dos valores dos campos diponíveis no dataset."
   ]
  },
  {
   "cell_type": "code",
   "execution_count": null,
   "metadata": {
    "scrolled": true
   },
   "outputs": [],
   "source": [
    "brazil_cities_df = pd.read_csv('data/BRAZIL_CITIES.csv', error_bad_lines=False, sep=';', nrows=1200)\n",
    "\n",
    "brazil_cities_df['TAXES'] = brazil_cities_df['TAXES'].str.replace(',', '.').astype(float)\n",
    "for variable in all_variables:\n",
    "    if (not brazil_cities_df[variable].dtype in ['int64', 'float64']):\n",
    "        brazil_cities_df[variable].apply(lambda x: float(x.replace(',', '.')))\n",
    "\n",
    "all_variables_df = pd.DataFrame(brazil_cities_df[all_variables], columns=all_variables)\n",
    "all_variables_df = all_variables_df.fillna(0)\n",
    "print(all_variables_df)"
   ]
  },
  {
   "cell_type": "markdown",
   "metadata": {},
   "source": [
    "## Gráfico de correlação\n",
    "Para visualizar a correlação entre as variáveis e ter uma ideia de quais seriam a melhor escolha pro modelo, foi utilizado o seaborn. Utilizando o heatmap, é possível verificar a intensidade da correlação para cada dupla de variáveis do dataset."
   ]
  },
  {
   "cell_type": "code",
   "execution_count": null,
   "metadata": {
    "scrolled": false
   },
   "outputs": [],
   "source": [
    "plt.figure(figsize=(20,20)) \n",
    "sns.heatmap(all_variables_df.corr(),vmin=-1, vmax=1, center=0,\n",
    "    cmap=sns.diverging_palette(20, 220, n=200),\n",
    "square=True)"
   ]
  },
  {
   "cell_type": "markdown",
   "metadata": {},
   "source": [
    "## Afunilamento das variaveis\n",
    "\n",
    "Como se pode ver com o gráfico acima, a cor azul indica que a maioria das variáveis estão relacionadas entre si de maneira linearmente positiva. Todavia, pelo fato de o dataset possuir muitas variáveis, fica difícil construir um modelo e visualizar as relações dos dados com todas elas. Sendo assim, a partir dos coeficientes de correlação calculados, escolhemos os dez maiores e isolamos os respectivos fatores para serem as variáveis independentes do nosso modelo."
   ]
  },
  {
   "cell_type": "code",
   "execution_count": null,
   "metadata": {
    "scrolled": false
   },
   "outputs": [],
   "source": [
    "#top X correlações mais fortes com nossa variavel problema.\n",
    "x = 10\n",
    "correlation = all_variables_df.corr()\n",
    "correlation_problem = correlation[predicted].fillna(0).abs().sort_values(ascending=False)[1:x+1]\n",
    "print (correlation_problem)"
   ]
  },
  {
   "cell_type": "markdown",
   "metadata": {},
   "source": [
    "## Componentes do modelo a ser gerado\n",
    "\n",
    "Após a análise dos fatores com maior correlação com FIXED_PHONES, criou-se uma lista para guardar esses dez fatores selecionados do dataset."
   ]
  },
  {
   "cell_type": "code",
   "execution_count": null,
   "metadata": {
    "scrolled": false
   },
   "outputs": [],
   "source": [
    "independent_variables = list(correlation_problem.keys())\n",
    "print('Lista com fatores mais correlacionados com FIXED_PHONES: ', independent_variables)\n",
    "target = pd.DataFrame(all_variables_df[predicted], columns = [predicted])\n",
    "predictors = pd.DataFrame(all_variables_df[independent_variables], columns=independent_variables)"
   ]
  },
  {
   "cell_type": "markdown",
   "metadata": {},
   "source": [
    "## Gráficos de dispersão e Histograma\n",
    "\n",
    "Escohidas as melhores variáveis, construímos em seguida um plot que gera gráficos de dispersão em que podemos visualizar como cada uma das variáveis se relaciona com nossa variável Y. Como se pode ver, as variáveis escolhidas se relacionam de maneira linearmente positiva com FIXED_PHONES. Isso já era esperado, haja vista que os coeficientes apresentaram alta correlação linear (todas bem próximas de 1). Para gerar os gráficos, foi utilizado o submodulo pyplot. Para cada varíavel é mostrada o gráfico de dispersão com relação a variável Y e também um histograma da variável independente."
   ]
  },
  {
   "cell_type": "code",
   "execution_count": null,
   "metadata": {
    "scrolled": false
   },
   "outputs": [],
   "source": [
    "linhas = len(independent_variables)\n",
    "index = 1\n",
    "plt.figure(figsize=(20,50))\n",
    "for i in independent_variables:\n",
    "    plt.subplot(linhas,2,index)\n",
    "    plt.scatter(all_variables_df[predicted], all_variables_df[i])\n",
    "    plt.xlabel(predicted)\n",
    "    plt.ylabel(i)\n",
    "    index += 1\n",
    "    plt.subplot(linhas,2,index)\n",
    "    plt.hist(all_variables_df[i])\n",
    "    plt.xlabel(i)\n",
    "    index += 1\n",
    "    \n",
    "plt.show()"
   ]
  },
  {
   "cell_type": "markdown",
   "metadata": {},
   "source": [
    "## Visualização dos dados\n",
    "Após a organização dos dados, temos as variáveis independentes de cada elemento do dataset que iremos utilizar para gerar o modelo. É possível visualizar uma parte do dataset com as variáveis escolhidas logo abaixo."
   ]
  },
  {
   "cell_type": "code",
   "execution_count": null,
   "metadata": {
    "scrolled": true
   },
   "outputs": [],
   "source": [
    "choosed_data = pd.DataFrame(all_variables_df[[predicted] + independent_variables])\n",
    "print(choosed_data)"
   ]
  },
  {
   "cell_type": "markdown",
   "metadata": {},
   "source": [
    "## Gerando o modelo\n",
    "\n",
    "Após isso, isolamos os campos de interesse nas variáveis Pythonianas X e y, de modo a alimentar as funções geradoras do modelo."
   ]
  },
  {
   "cell_type": "code",
   "execution_count": null,
   "metadata": {
    "scrolled": false
   },
   "outputs": [],
   "source": [
    "# Fazendo um for para que a lista seja copiada sem ser por referência\n",
    "aux_ind_var = list()\n",
    "for item in independent_variables:\n",
    "    aux_ind_var.append(item)\n",
    "\n",
    "# Se quiser remover algumas variáveis pro modelo, basta descomentar este for\n",
    "#for item in ['COMP_P', 'COMP_I', 'MAC', 'COMP_M', 'COMP_L', 'Pr_Agencies', 'COMP_Q', 'Cars']:\n",
    "#    if(item in aux_ind_var):\n",
    "#        aux_ind_var.remove(item)\n",
    "\n",
    "# aux_ind_var = aux_ind_var"
   ]
  },
  {
   "cell_type": "code",
   "execution_count": null,
   "metadata": {
    "scrolled": true
   },
   "outputs": [],
   "source": [
    "\n",
    "# X são as variáveis independentes com as quais se quer modelar a dependente\n",
    "X = predictors[aux_ind_var]\n",
    "# y é a variável dependente que se quer prever\n",
    "y = target[predicted]\n",
    "\n",
    "# Construindo o modelo linear\n",
    "model = sm.OLS(y, X).fit()\n",
    "# Criando data frame com predições\n",
    "predictions = model.predict(X)\n",
    "\n",
    "pprint(model.summary())"
   ]
  },
  {
   "cell_type": "markdown",
   "metadata": {},
   "source": [
    "## COMP_M\n",
    "Falar sobre o problema da variável COMP_M."
   ]
  },
  {
   "cell_type": "code",
   "execution_count": null,
   "metadata": {},
   "outputs": [],
   "source": [
    "aux_ind_var.remove('COMP_M')\n",
    "\n",
    "# X são as variáveis independentes com as quais se quer modelar a dependente\n",
    "X = predictors[aux_ind_var]\n",
    "# y é a variável dependente que se quer prever\n",
    "y = target[predicted]\n",
    "\n",
    "# Construindo o modelo linear\n",
    "model = sm.OLS(y, X).fit()\n",
    "# Criando data frame com predições\n",
    "predictions = model.predict(X)\n",
    "\n",
    "pprint(model.summary())"
   ]
  },
  {
   "cell_type": "markdown",
   "metadata": {},
   "source": [
    "# Variáveis independentes não tão independentes\n",
    "Falar sbore a multicolinearidade entre as variáveis. Após testes verificamos que as variaveis independentes que não causam a multicolinearidade são COMP_N e COMP_S."
   ]
  },
  {
   "cell_type": "code",
   "execution_count": null,
   "metadata": {},
   "outputs": [],
   "source": [
    "for item in ['COMP_P', 'COMP_I', 'MAC', 'COMP_L', 'Pr_Agencies', 'COMP_Q', 'Cars']:\n",
    "    if(item in aux_ind_var):\n",
    "        aux_ind_var.remove(item)\n",
    "        \n",
    "# X são as variáveis independentes com as quais se quer modelar a dependente\n",
    "X = predictors[aux_ind_var]\n",
    "# y é a variável dependente que se quer prever\n",
    "y = target[predicted]\n",
    "\n",
    "# Construindo o modelo linear\n",
    "model = sm.OLS(y, X).fit()\n",
    "# Criando data frame com predições\n",
    "predictions = model.predict(X)\n",
    "\n",
    "pprint(model.summary())"
   ]
  },
  {
   "cell_type": "markdown",
   "metadata": {},
   "source": [
    "## Interpretando o modelo\n",
    "\n",
    "Como se pode ver na tabela gerada acima, a variável FIXED_PHONES..."
   ]
  },
  {
   "cell_type": "code",
   "execution_count": null,
   "metadata": {
    "scrolled": false
   },
   "outputs": [],
   "source": [
    "# TODO: Começar a interpretação dos dados mostrados pela tabela.\n",
    "# TODO: repensar sobre as colunas escolhidas para o modelo"
   ]
  }
 ],
 "metadata": {
  "kernelspec": {
   "display_name": "Python 3",
   "language": "python",
   "name": "python3"
  },
  "language_info": {
   "codemirror_mode": {
    "name": "ipython",
    "version": 3
   },
   "file_extension": ".py",
   "mimetype": "text/x-python",
   "name": "python",
   "nbconvert_exporter": "python",
   "pygments_lexer": "ipython3",
   "version": "3.7.3"
  }
 },
 "nbformat": 4,
 "nbformat_minor": 2
}
