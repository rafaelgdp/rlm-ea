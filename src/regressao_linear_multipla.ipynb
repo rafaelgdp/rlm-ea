{
 "cells": [
  {
   "cell_type": "markdown",
   "metadata": {},
   "source": [
    "# Trabalho de Estatística Aplicada\n",
    "\n",
    "## Regressão Linear Múltipla\n",
    "\n",
    "### Grupo:\n",
    "\n",
    "* Rafael G. de Pontes\n",
    "* Henrique Arriel\n",
    "* Jonathan L."
   ]
  },
  {
   "cell_type": "markdown",
   "metadata": {},
   "source": [
    "## Dataset\n",
    "\n",
    "Os dados coletados para esta análise foram retirados do site [kaggle](https://www.kaggle.com/crisparada/brazilian-cities). Tratam-se de dados de diversas cidades do Brasil, como população, número de unidades domiciliares, telefones fixos, tvs por assinatura, censos populacionais estratificados por idade, zona urbana ou rural, dentre outros. Ao todo, são 79 campos para cada cidade documentada. As descrições completas dos dados, juntamente com suas respectivas fontes, podem ser vistas a seguir:\n",
    "\n",
    "FIELD - DESCRIPTION - REFERENCE - UNIT - SOURCE\n",
    "\n",
    "CITY - Name of the City\n",
    "\n",
    "STATE - Name of the State\n",
    "\n",
    "CAPITAL - 1 if Capital of State\n",
    "\n",
    "IBGE_RES_POP - Resident Population - 2010 - source\n",
    "\n",
    "IBGE_RES_POP_BRAS - Resident Population Brazilian - 2010 - source\n",
    "\n",
    "IBGE_RES_POP_ESTR - Redident Population Foreigners - 2010 - source\n",
    "\n",
    "IBGE_DU - Domestic Units Total - 2010 - source\n",
    "\n",
    "IBGE_DU_URBAN - Domestic Units Urban - 2010 - source\n",
    "\n",
    "IBGE_DU_RURAL - Domestic Units Rural 2010 - source\n",
    "\n",
    "IBGE_POP - Resident Population Regular Urban Planning - 2010 - source\n",
    "\n",
    "IBGE_1 - Resident Population Regular Urban Planning - until 1 y.o - 2010 - source\n",
    "\n",
    "IBGE_1-4 - Resident Population Regular Urban Planning - from 1 to 4 y.o - 2010 - source\n",
    "\n",
    "IBGE_5-9 - Resident Population Regular Urban Planning - from 4 to 9 y.o - 2010 - source\n",
    "\n",
    "IBGE_10-14 - Resident Population Regular Urban Planning - from 10 to 14 y.o - 2010 - source\n",
    "\n",
    "IBGE_15-59 - Resident Population Regular Urban Planning - from 15 to 59 y.o 2010 - source\n",
    "\n",
    "IBGE_60+ - Resident Population Regular Urban Planning - above 60 y.o - 2010 - source\n",
    "\n",
    "IBGE_PLANTED_AREA - Planted Area (hectares) - 2017 - 1 hectare (1 hectare = 10,000 square meters) - source\n",
    "\n",
    "IBGE_CROP_PRODUCTION_$ - Crop Production - 2017 - $ 1,000 reais - source\n",
    "\n",
    "IDHM Ranking - HDI Ranking - 2010 - source\n",
    "\n",
    "IDHM - HDI Human Development Index - 2010 - source\n",
    "\n",
    "IDHM_Renda - HDI GNI Index - 2010 - source\n",
    "\n",
    "IDHM_Longevidade - HDI Life Expectancy index - 2010 - source\n",
    "\n",
    "IDHM_Educacao HDI Education index - 2010 - source\n",
    "\n",
    "LONG - City Longitude - 2010 - source\n",
    "\n",
    "LAT - City Latitude - 2010 - source\n",
    "\n",
    "ALT - City Elevation (meters) - 2010 - 1 meter - source\n",
    "\n",
    "PAY_TV - PayTV users - 2019-03 - source\n",
    "\n",
    "FIXED_PHONES - Fixed Fones (not cell phones) users - 2019-03 - source\n",
    "\n",
    "AREA - City area (square kilometers) - 2018 - 1 square Kilometer (1 kilometer = 1,000,000 square meters) - source\n",
    "\n",
    "REGIAO_TUR - Turism Category Region - 2017 - source\n",
    "\n",
    "CATEGORIA_TUR - Turism Category - 2017 - source\n",
    "\n",
    "ESTIMATED_POP - Estimated Population - 2018-07 - source\n",
    "\n",
    "RURAL_URBAN - Rural or Urban Tipology - 2016 - source\n",
    "\n",
    "GVA_AGROPEC - Gross Added Value - Agropecuary - 2016 - $ 1,000 reais - source\n",
    "\n",
    "GVA_INDUSTRY - Gross Added Value - Industry - 2016 - $ 1,000 reais - source\n",
    "\n",
    "GVA_SERVICES - Gross Added Value - Services - 2016 - $ 1,000 reais - source\n",
    "\n",
    "GVA_PUBLIC - Gross Added Value - Public Services - 2016 - $ 1,000 reais - source\n",
    "\n",
    "GVA_TOTAL Total Gross Added Value - 2016 - $ 1,000 reais - source\n",
    "\n",
    "TAXES - Taxes - 2016 - $ 1,000 - reais - source\n",
    "\n",
    "GDP - Gross Domestic Product - 2016 - $ 1,000 reais - source\n",
    "\n",
    "POP_GDP - Population - 2016 - source\n",
    "\n",
    "GDP_CAPITA - Gross Domestic Product per capita - 2016 - source\n",
    "\n",
    "GVA_MAIN - Activity with higher GVA contribution - 2016 - source\n",
    "\n",
    "MUN_EXPENDIT - Municipal expenditures - in reais - 2016 - $ 1 real - source\n",
    "\n",
    "COMP_TOT - Total number of companies 2016 - source\n",
    "\n",
    "COMP_A Number of Companies: Agriculture, livestock, forestry, fishing and aquaculture - 2016 - source\n",
    "\n",
    "COMP_B Number of Companies: Extractive industries 2016 - source\n",
    "\n",
    "COMP_C Number of Companies: Industries of transformation - 2016 - source\n",
    "\n",
    "COMP_D Number of Companies: Electricity and gas - 2016 - source\n",
    "\n",
    "COMP_E Number of Companies: Water, sewage, waste management and decontamination activities - 2016 - source\n",
    "\n",
    "COMP_F Number of Companies: Construction - 2016 - source\n",
    "\n",
    "COMP_G - Number of Companies: Trade; repair of motor vehicles and motorcycles - 2016 - source\n",
    "\n",
    "COMP_H - Number of Companies: Transport, storage and mail - 2016 - source\n",
    "\n",
    "COMP_I - Number of Companies: Accommodation and food - 2016 - source\n",
    "\n",
    "COMP_J - Number of Companies: Information and communication - 2016 - source\n",
    "\n",
    "COMP_K - Number of Companies: Financial, insurance and related services activities - 2016 - source\n",
    "\n",
    "COMP_L - Number of Companies: Real estate activities - 2016 - source\n",
    "\n",
    "COMP_M - Number of Companies: Professional, scientific and technical activities - 2016 - source\n",
    "\n",
    "COMP_N - Number of Companies: Administrative activities and complementary services - 2016 - source\n",
    "\n",
    "COMP_O - Number of Companies: Public administration, defense and social security - 2016 - source\n",
    "\n",
    "COMP_P - Number of Companies: Education - 2016 - source\n",
    "\n",
    "COMP_Q - Number of Companies: Human health and social services - 2016 - source\n",
    "\n",
    "COMP_R - Number of Companies: Arts, culture, sport and recreation - 2016 - source\n",
    "\n",
    "COMP_S - Number of Companies: Other service activities - 2016 - source\n",
    "\n",
    "COMP_T - Number of Companies: Domestic services - 2016 - source\n",
    "\n",
    "COMP_U - Number of Companies: International and other extraterritorial institutions - 2016 - source\n",
    "\n",
    "HOTELS - Total number of hotels - 2019-03 - source\n",
    "\n",
    "BEDS - Total number of hotel beds - 2019-03 - source\n",
    "\n",
    "Pr_Agencies - Total number of private bank agencies - 2019-02 - source\n",
    "\n",
    "Pu_Agencies - Total number of public bank agencies - 2019-02 - source\n",
    "\n",
    "Pr_Bank - Total number of private banks - 2019-02 - source\n",
    "\n",
    "Pu_Bank - Total number of public banks 2019-02 - source\n",
    "\n",
    "Pr_Assets - Total amount of private bank assets - 2019-02 $ 1 real source\n",
    "\n",
    "Pu_Assets - Total amount of public bank assets - 2019-02 $ 1 real source\n",
    "\n",
    "Cars - Total number of cars - 2019-01 - source\n",
    "\n",
    "Motorcycles - Total number of motorcycles, scooters, moped - 2019-01 - source\n",
    "\n",
    "Wheeled_tractor - Total number of wheeled tractors - 2019-01 - source\n",
    "\n",
    "UBER - 1 if UBER 2019-05 - source\n",
    "\n",
    "MAC - Total number of Mac Donalds stores - 2018-11 - source\n",
    "\n",
    "WALLMART - Total number of Walmart Stores - 2018-12 - source\n",
    "\n",
    "POST_OFFICES - Total number of post offices - 2019-05 - source"
   ]
  },
  {
   "cell_type": "markdown",
   "metadata": {},
   "source": [
    "## Bibliotecas utilizadas\n",
    "\n",
    "Para realizar a análise, as seguintes bibliotecas de Python 3 foram utilizadas: **statsmodels, numpy, pandas, pprint,** ..."
   ]
  },
  {
   "cell_type": "code",
   "execution_count": 1,
   "metadata": {
    "scrolled": false
   },
   "outputs": [],
   "source": [
    "# coding: utf-8\n",
    "\n",
    "import statsmodels.api as sm\n",
    "import numpy as np\n",
    "import pandas as pd\n",
    "from pprint import *"
   ]
  },
  {
   "cell_type": "markdown",
   "metadata": {},
   "source": [
    "## Componentes do modelo gerado\n",
    "\n",
    "Após uma análise prévia dos dados, escolheu-se modelar a quantidade de impostos paga pela população com as seguintes variáveis: população contabilizada pelo IBGE, número de unidades domiciliares, número de TVs por assinatura, número de telefones fixos."
   ]
  },
  {
   "cell_type": "code",
   "execution_count": 74,
   "metadata": {},
   "outputs": [],
   "source": [
    "\n",
    "predicted = 'TAXES'\n",
    "predictor_columns = [\n",
    "                    # 'TAXES',\n",
    "                    'IBGE_POP',\n",
    "                    # 'IBGE_RES_POP_BRAS',\n",
    "                    # 'IBGE_RES_POP_ESTR',\n",
    "                    # 'CAPITAL',\n",
    "                    'IBGE_DU',\n",
    "                    'PAY_TV',\n",
    "                    'FIXED_PHONES',\n",
    "                    # 'GDP',\n",
    "                    # 'AREA',\n",
    "                    # 'IBGE_1',\n",
    "                    # 'IBGE_1-4',\n",
    "                    # 'IBGE_5-9',\n",
    "                    # 'IBGE_10-14',\n",
    "                    # 'IBGE_15-59',\n",
    "                    # 'IBGE_60+'\n",
    "                    ]"
   ]
  },
  {
   "cell_type": "markdown",
   "metadata": {},
   "source": [
    "## Organizando os dados\n",
    "\n",
    "Antes de gerar o modelo e gráficos, foi necessário isolar e converter alguns dos campos para dados numéricos, haja vista que foram codificados como strings cuja casa decimal era separada por vírgula, o que era incompatível com os módulos utilizados."
   ]
  },
  {
   "cell_type": "code",
   "execution_count": 98,
   "metadata": {},
   "outputs": [
    {
     "name": "stdout",
     "output_type": "stream",
     "text": [
      "IBGE_POP is int64\n",
      "IBGE_DU is int64\n",
      "PAY_TV is int64\n",
      "FIXED_PHONES is int64\n"
     ]
    }
   ],
   "source": [
    "# Organizando os dados para serem processados\n",
    "brazil_cities_df = pd.read_csv('data/BRAZIL_CITIES.csv', error_bad_lines=False, sep=';', nrows=1200)\n",
    "brazil_cities_df[predicted] = brazil_cities_df[predicted].str.replace(',', '.').astype(float)\n",
    "for predictor in predictor_columns:\n",
    "    if (not brazil_cities_df[predictor].dtype in ['int64']):\n",
    "        brazil_cities_df[predictor] = brazil_cities_df[predictor].str.replace(',', '.').astype(float)\n",
    "    print(predictor + \" is \" + str(brazil_cities_df[predictor].dtype))\n",
    "target = pd.DataFrame(brazil_cities_df[predicted], columns=[predicted])\n",
    "predictors = pd.DataFrame(brazil_cities_df[predictor_columns], columns=predictor_columns)"
   ]
  },
  {
   "cell_type": "markdown",
   "metadata": {},
   "source": [
    "## Visualização dos dados\n",
    "Após a organização dos dados, temos as variáveis independentes de cada elemento do dataset que iremos utilizar para gerar o modelo. É possível visualizar uma parte do dataset com as variáveis escolhidas logo abaixo."
   ]
  },
  {
   "cell_type": "code",
   "execution_count": 104,
   "metadata": {},
   "outputs": [
    {
     "name": "stdout",
     "output_type": "stream",
     "text": [
      "             TAXES  IBGE_POP  IBGE_DU   PAY_TV  FIXED_PHONES\n",
      "0     1.171254e+08  10463636  3576148  2047668       5543127\n",
      "1     1.562634e+07    616068   202009    98664        231302\n",
      "2     6.810612e+04   5426838  2147235  1271672       2417123\n",
      "3     2.914559e+07   2450634   774820   460682        920410\n",
      "4     1.098603e+07   1339712   508503   352371        663846\n",
      "5     1.249566e+04   2263631   762924   474416       1137695\n",
      "6     1.301467e+07    235508    71821    57271        191288\n",
      "7     7.807580e+03   1157593   471252   128345        397327\n",
      "8     2.672549e+06    399390   144654   134816        217623\n",
      "9     1.591249e+04   1688975   576347   333275        918158\n",
      "10    7.813229e+06   1955661   860309   220223        619546\n",
      "11    9.739610e+06   1004839   348424   237013        497122\n",
      "12    2.972349e+06    583079   195434   132259        278642\n",
      "13    8.024750e+03    580561   196195    63571        252242\n",
      "14    1.016880e+06    186252    61609    10557         34695\n",
      "15    8.004144e+06   2366137   711478   173478        439877\n",
      "16    6.201312e+06   1291199   423365   171454        532458\n",
      "17    3.814062e+05     41729    13800     4700          6378\n",
      "18    7.102546e+06    608468   239359   145954        277492\n",
      "19    8.451519e+06   1036178   360748   177153        351829\n",
      "20    3.313237e+06    645047   216343   148291        265047\n",
      "21    1.243323e+07   1760829   461426   234594        236595\n",
      "22    3.099263e+06    527535   165959    68264        186902\n",
      "23    2.292039e+06    409668   169306   113931        201911\n",
      "24    7.289370e+03    323621   118317    92215        166371\n",
      "25    3.133455e+05     75443    25429     3746         12794\n",
      "26    2.020289e+06    485658   165055    51839        259375\n",
      "27    5.272700e+03    571442   178829   136631        239366\n",
      "28    2.590079e+06    148474    50518    46888         94534\n",
      "29    4.998656e+06    561832   189535   118080        231679\n",
      "...            ...       ...      ...      ...           ...\n",
      "1170  2.198000e+01     38682    11138      605           356\n",
      "1171  3.538810e+04     36362    14054      383           472\n",
      "1172  2.572616e+04     15867     6734     1552          1273\n",
      "1173  1.135421e+05     12086     3974      837          1324\n",
      "1174  5.312673e+04     28310    12795      855          1415\n",
      "1175  4.678557e+04     25425     8033     3055           778\n",
      "1176  1.371064e+04     19132     6364     1318          2694\n",
      "1177  1.478951e+04     16563     9098      201           785\n",
      "1178  1.771150e+05     44536    14032     2407          4683\n",
      "1179  6.292366e+04     41739    14880     4466          1094\n",
      "1180  1.180927e+04     13422     6970      128           833\n",
      "1181  3.021529e+04      2346     1055      213           370\n",
      "1182  1.937884e+04     12862     5302      213           595\n",
      "1183  2.942401e+04     18477     8426     1500          2652\n",
      "1184  3.441831e+04     21650     8377     1590           612\n",
      "1185  1.274381e+05     44887    20458     2434          1082\n",
      "1186  2.550295e+05     31560    10456     1605          3404\n",
      "1187  1.700243e+04     16874    13581     1380           291\n",
      "1188  1.769000e+01      9150     3322      168          1274\n",
      "1189  3.803000e+01      7376     4547     1188          1319\n",
      "1190  3.995256e+04     37467    17100      275           912\n",
      "1191  9.833120e+03     11171     4282      896           963\n",
      "1192  2.406570e+04      4935     4200      133           770\n",
      "1193  1.912302e+04     23201     9962      909          1965\n",
      "1194  1.322569e+04      9592     3499      420          1525\n",
      "1195  1.789027e+04     11821     4041      273          1892\n",
      "1196  2.833000e+01     12487     5117      160           956\n",
      "1197  4.053903e+04     55040    17555     6881          6445\n",
      "1198  2.738547e+04     11451     4786      152           983\n",
      "1199  1.593191e+04      7693     3380      607           446\n",
      "\n",
      "[1200 rows x 5 columns]\n"
     ]
    }
   ],
   "source": [
    "choosed_data= pd.DataFrame(brazil_cities_df[[predicted] + predictor_columns])\n",
    "print(choosed_data)"
   ]
  },
  {
   "cell_type": "code",
   "execution_count": null,
   "metadata": {},
   "outputs": [],
   "source": [
    "## Gráficos de dispersão\n",
    "Foram utilizadas as bibliotecas seaborn e pyplot para gerar os gráficos de dispersão e ter uma melhor visualização\n",
    "de uma varíavel com relação a outra, podendo perceber visualmente uma correlação linear entre algumas variáveis."
   ]
  },
  {
   "cell_type": "code",
   "execution_count": 92,
   "metadata": {},
   "outputs": [
    {
     "data": {
      "image/png": "[encoded data removed]",
      "text/plain": [
       "<Figure size 900x900 with 30 Axes>"
      ]
     },
     "metadata": {
      "needs_background": "light"
     },
     "output_type": "display_data"
    }
   ],
   "source": [
    "import seaborn as sns\n",
    "import matplotlib.pyplot as plt\n",
    "\n",
    "allcolumns = [predicted] + predictor_columns\n",
    "sns.pairplot(brazil_cities_df[allcolumns])\n",
    "plt.show()"
   ]
  },
  {
   "cell_type": "markdown",
   "metadata": {},
   "source": [
    "## Gerando o modelo\n",
    "\n",
    "Após isso, isolamos os campos de interesse nas variáveis Pythonianas X e y, de modo a alimentar as funções geradoras do modelo."
   ]
  },
  {
   "cell_type": "code",
   "execution_count": 20,
   "metadata": {},
   "outputs": [
    {
     "name": "stdout",
     "output_type": "stream",
     "text": [
      "<class 'statsmodels.iolib.summary.Summary'>\n",
      "\"\"\"\n",
      "                            OLS Regression Results                            \n",
      "==============================================================================\n",
      "Dep. Variable:                  TAXES   R-squared:                       0.868\n",
      "Model:                            OLS   Adj. R-squared:                  0.867\n",
      "Method:                 Least Squares   F-statistic:                     1960.\n",
      "Date:                Sat, 08 Jun 2019   Prob (F-statistic):               0.00\n",
      "Time:                        11:08:17   Log-Likelihood:                -18634.\n",
      "No. Observations:                1200   AIC:                         3.728e+04\n",
      "Df Residuals:                    1196   BIC:                         3.730e+04\n",
      "Df Model:                           4                                         \n",
      "Covariance Type:            nonrobust                                         \n",
      "================================================================================\n",
      "                   coef    std err          t      P>|t|      [0.025      0.975]\n",
      "--------------------------------------------------------------------------------\n",
      "IBGE_POP        21.7568      1.093     19.900      0.000      19.612      23.902\n",
      "IBGE_DU        -66.1703      3.451    -19.174      0.000     -72.941     -59.399\n",
      "PAY_TV         -41.6743      3.552    -11.733      0.000     -48.643     -34.706\n",
      "FIXED_PHONES    36.5791      1.248     29.321      0.000      34.132      39.027\n",
      "==============================================================================\n",
      "Omnibus:                     1197.060   Durbin-Watson:                   2.437\n",
      "Prob(Omnibus):                  0.000   Jarque-Bera (JB):           483228.967\n",
      "Skew:                          -3.904   Prob(JB):                         0.00\n",
      "Kurtosis:                     100.998   Cond. No.                         52.3\n",
      "==============================================================================\n",
      "\n",
      "Warnings:\n",
      "[1] Standard Errors assume that the covariance matrix of the errors is correctly specified.\n",
      "\"\"\"\n"
     ]
    }
   ],
   "source": [
    "\n",
    "# X são as variáveis independentes com as quais se quer modelar a dependente\n",
    "X = predictors[predictor_columns]\n",
    "# y é a variável dependente que se quer prever\n",
    "y = target[predicted]\n",
    "\n",
    "# Construindo o modelo linear\n",
    "model = sm.OLS(y, X).fit()\n",
    "# Criando data frame com predições\n",
    "predictions = model.predict(X)\n",
    "\n",
    "pprint(model.summary())"
   ]
  },
  {
   "cell_type": "markdown",
   "metadata": {},
   "source": [
    "## Interpretando o modelo\n",
    "\n",
    "Como se pode ver na tabela gerada acima, a variável TAXES (impostos) cresce, respectivamente, 21.76 e 36.58 unidades, para cada unidade a mais das variáveis IBGE_POP e FIXED_PHONES. Por outro lado, TAXES decresce em 66.17 e 41.67 unidades, para cada IBGE_DU e PAY_TV."
   ]
  },
  {
   "cell_type": "code",
   "execution_count": null,
   "metadata": {},
   "outputs": [],
   "source": [
    "# TODO: pensar em uma visualização (conjunto de gráficos) para comparar os dados com o modelo gerado\n",
    "# TODO: repensar sobre as colunas escolhidas para o modelo"
   ]
  }
 ],
 "metadata": {
  "kernelspec": {
   "display_name": "Python 3",
   "language": "python",
   "name": "python3"
  },
  "language_info": {
   "codemirror_mode": {
    "name": "ipython",
    "version": 3
   },
   "file_extension": ".py",
   "mimetype": "text/x-python",
   "name": "python",
   "nbconvert_exporter": "python",
   "pygments_lexer": "ipython3",
   "version": "3.7.3"
  }
 },
 "nbformat": 4,
 "nbformat_minor": 2
}
